{
 "cells": [
  {
   "cell_type": "code",
   "execution_count": 1,
   "id": "b7697a29",
   "metadata": {},
   "outputs": [
    {
     "name": "stdout",
     "output_type": "stream",
     "text": [
      "122\n",
      "['Commonwealth Games: Scot Miller, 75, becomes oldest gold medallist', 'Watch: Pick from 11 Commonwealth Games streams', 'Premier League build-up and news conferences', 'Laugher wins second gold in 24 hours with Harding', 'Chelsea sign Brighton defender Cucurella for Â£60m', \"Stokes' warning 'absolutely' heard - Connor\", \"Sky's Tyler apologises over Hillsborough remark\", 'Jonas to fight for second world title in Liverpool', 'Listen: One-Day Cup - commentary from three games', \"Commonwealth Games: What's happening on day eight?\", 'Miller, 75, becomes oldest medallist as Scots win gold', 'Hunter-Spivey & Stacey guaranteed at least silver', 'England beat New Zealand to line up Australia semi', 'Major signings, new teams & rule changes - the big kick-off', \"Chris Sutton's Premier League predictions for opening weekend\", \"'We know we have to change' - Klopp likens fixture congestion to climate change\", \"Ten Hag 'really happy' to have Ronaldo in squad\", 'Premier League predictions: Who will be champions?', \"A season like no other, but some things won't change - Shearer\", 'Butterfly image wins World Sports Photography Awards', \"Watch the key moments from Boris Johnson's final PMQs\", \"If Boris Johnson was expecting a teary-eyed send off from all MPs, he didn't get one at his final Prime Minister's Questions.\", \"The outgoing prime minister's last weekly grilling at the dispatch box was not unlike his first in September 2019 - acrimonious, raucous, and littered with his colourful quips.\", 'After almost an hour of political theatre, Mr Johnson brought the curtain down in characteristic fashion, with a tongue-in-cheek farewell, borrowed from the script of a sci-fi blockbuster.', '\"Hasta la vista, baby,\" Mr Johnson told MPs, reciting the line from Arnold Schwarzenegger\\'s cyborg character in the 1991 film Terminator 2: Judgment Day.', \"Cue uproarious laughter, cheers and a standing ovation from the Conservative benches - although former PM Theresa May didn't appear to join in the applause.\", 'Given Schwarzenegger\\'s other famous catchphrase in the film - \"I\\'ll be back\" - Mr Johnson\\'s sign-off and what it means may hang in the air in Westminster.', 'For now, at least, Mr Johnson will leave office by September, when the contest to elect his replacement as Tory leader and prime minister is due to conclude.', 'In a pithy closing statement Mr Johnson had a few words of advice for his successor, saying that they should stay close to the Americans, stick up for the Ukrainians and cut taxes whenever possible.', '\"Focus on the road ahead, but always remember to check rear-view mirror. And remember above all, it\\'s not Twitter that counts - it\\'s the people who sent us here.\"', \"Held in the pressure cooker of the House of Commons, Prime Minister's Questions is designed to be an adversarial occasion of high political drama.\", 'The first was in 1961, and since then, prime ministers have admitted the event holds some terror.', 'Years after leaving office, former Prime Minister Tony Blair likened PMQs to being marched to his own \"execution\", while one of his predecessors, Harold Macmillan, confided it made him feel \"physically sick\".', \"It's easy to see why as Mr Johnson faced a hostile audience of MPs, some of whom had been involved in ousting him as Tory leader weeks ago.\", 'Before proceedings began, Commons Speaker Lindsay Hoyle urged MPs to moderate their language and conduct themselves in a respectful manner.', \"The plea appeared to fall on deaf ears though as Labour MPs - led by leader Sir Keir Starmer - launched a barrage of attacks on Mr Johnson's integrity and record in as PM. \", '\"Inflation is up again this morning and millions are struggling with a cost of living crisis, and he\\'s decided to come down from his gold wallpapered bunker for one last time to tell us that everything\\'s fine,\" Sir Keir said.', 'Mr Johnson paid little heed to Sir Lindsay\\'s plea either, branding Sir Keir a \"great pointless human bollard\".', 'It was the kind of unconventional one-liner Mr Johnson has reeled off time and again during his 93 PMQs duels, most of them against Sir Keir.', '\"Captain Hindsight\" was one of Mr Johnson\\'s favourite nicknames for Sir Keir, often used in the context of his calls for lockdown restrictions during the pandemic.', 'Many of their fiercest clashes at PMQs were over Covid-19 rules, and the breach of them by Mr Johnson and others in Downing Street.', 'A more recent addition to Mr Johnson\\'s jibes at Sir Keir has been \"Captain Crasheroonie Snoozefest\", and he once described former Labour leader Jeremy Corbyn as a \"chlorinated chicken\" in an exchange about post-Brexit trade with the US.', 'When asked why the Tory leadership candidates had pulled out of a televised debate this week, Mr Johnson once again conjured an vivid image with his rhetoric.', 'The candidates would \"wipe the floor\" with Sir Keir, Mr Johnson said, comparing his Tory colleagues to \"household detergent\".', 'Perhaps not quite what eliminated Tory leadership candidate Tom Tugendhat had in mind when he offered a \"clean start\".', 'BBC political correspondent Ione Wells sat in the press gallery of the Commons watching the spectacle unfold.', 'The atmosphere was \"pretty jovial overall\", she said. She said even Mr Johnson\\'s critics couldn\\'t help but chuckle at his gags, with Labour and Liberal Democrat MPs laughing at his notorious rhetorical flourishes, which have arguably got him in trouble over the years.', \"Mr Johnson's valedictory speech came after veteran Conservative backbencher Sir Edward Leigh praised his record.\", 'Labour MPs could be heard shouting \"no\" as Sir Edward said: \"On behalf of the House may I thank the prime minister for his three years\\' record of service.\"', \"Stepping up to the dispatch box for the last time, Mr Johnson thanked his staff and MPs before giving a nod to Schwarzenegger's Terminator character.\", 'As the heat of PMQs cooled, Mr Johnson left the chamber, receiving pats on the back and handshakes as he went.', 'Some tears were apparently shed after all by Conservative minister Andrea Jenkyns.', \"These were the end credits of Mr Johnson's swansong PMQs, or, to evoke his Terminator reference, the final parliamentary Judgement Day of his premiership.\", 'In his first PMQs on 4 September 2019, Mr Johnson called Mr Corbyn a \"great big girl\\'s blouse\" when the then-Labour leader challenged the PM about parliamentary scrutiny.', '\"Call an election, you great big girl\\'s blouse\"', 'On 12 January 2022, Mr Johnson offered \"heartfelt apologies\" for attending drinks in Downing Street\\'s garden on 20 May 2020, when lockdown restrictions were in force.', 'The prime minister was accused of \"body shaming\" the SNP\\'s Westminster leader Ian Blackford during a PMQs clash on 26 January 2022.', 'Ian Blackford: \"The impending National Insurance tax hike hangs like a guillotine while they eat cake.\"', 'On 25 May 2022, Mr Johnson repeated his apology for parties held in Downing Street during lockdown, after senior civil servant Sue Gray published a report into breaches of Covid-19 rules.', 'Prime Minister Boris Johnson: I am humbled and I have learned a lesson', 'Liz Truss says a recession can be averted, while Rishi Sunak argues tax cuts would fuel inflation', 'Bank of England governor Andrew Bailey warns price rises would be long-term if Bank did not act.', 'Labour says a so-called \"Fizz with Liz\" dinner last year may have breached spending rules for MPs.', 'The Labour leader failed to register eight interests on time, the standards commissioner finds.', 'Customers \"face a very challenging winter ahead\", says regulator, as it updates bills every three months.', 'A committee hears that current funding \"won\\'t touch the sides\" amid rising demand and inflation.', 'Liz Truss says a recession can be averted, while Rishi Sunak argues tax cuts would fuel inflation', 'Bank of England governor Andrew Bailey warns price rises would be long-term if Bank did not act.', 'Labour says a so-called \"Fizz with Liz\" dinner last year may have breached spending rules for MPs.', \"Truss and Sunak row over Bank's recession warning\", 'Bank defends rate hike ahead of looming recession', 'Labour calls for probe into Truss dinner event', \"Starmer breached MPs' code of conduct eight times\", 'Energy bills to rise and fall quicker in shake-up', 'Ravaged social care sector needs more money - MPs', \"Truss and Sunak row over Bank's recession warning\", 'Bank defends rate hike ahead of looming recession', 'Labour calls for probe into Truss dinner event', \"Starmer breached MPs' code of conduct eight times\", 'Energy bills to rise and fall quicker in shake-up', 'Ravaged social care sector needs more money - MPs', 'What are policy flashpoints for the next PM?', 'UK will fall into recession this year, warns Bank', 'Truss and Sunak attack Welsh government at hustings', 'UK Parliament axes TikTok account over China fears', 'Security fears delay Tory leadership ballot papers', 'Pressure is on for next PM to tackle economy swiftly', 'Why did Liz Truss U-turn over public sector pay?', 'What are the policies of final two hoping to be PM?', 'How UK Greens are learning from overseas allies', 'Liz Truss: Fast-track career of foreign secretary', \"Lessons will be learned about the UK's handling of Covid, before another pandemic strikes, Baroness Hallett, chairing the public inquiry, has said.\", 'Opening the inquiry, she promised to be \"fair and robust\".', 'The former High Court judge said she would conduct the inquiry as quickly as possible, without giving a timeframe for its completion.', 'Those who had suffered the most deserved to know if more could have been done, she said.', 'Lives had been lost, education harmed, businesses folded and mental and physical health had suffered.', '\"Every person has had their life changed to some extent,\" Lady Hallett said.', '\"Those who have suffered the most will want to know if any more could have been done to reduce their suffering.\"', 'The inquiry can compel witnesses to give evidence and release documents, but cannot prosecute or fine anyone.', 'It was a substantial task that would take time and have a significant cost, Lady Hallett said.', 'But she added: \"I am determined to undertake the inquiry as speedily as possible so lessons can be learned before another pandemic strikes.\"', 'Public hearings will begin in the spring.', 'Before then, Lady Hallettt said, the key topics for the inquiry would include:', 'The inquiry will begin taking evidence from experts in September.', 'There will be many involved in the care sector who will have a great deal to say. They will remember the early warnings from other countries about the vulnerability of care homes. ', 'Care providers will recount their struggle to get protective equipment; what they saw as the slowness of government guidance; the rapid discharge of hospital patients into care homes, some taking with them the virus and above all, their sense of being forgotten. ', 'Families who were unable to see or in too many cases, say goodbye to their loved ones, are likely to have their say later in the inquiry. ', 'But in weighing up our preparedness for the pandemic, there is one number that perhaps tells the most powerful story. In the first wave between March and June 2020, nearly 20,000 care home residents died of Covid in England and Wales. At that time, it represented more than a third of the total number of deaths.', 'Jo Goodman, co-founder of Covid-19 Bereaved Families for Justice campaign, said: \"Today was an emotional day for those of us who have lost loved ones and it meant a lot to hear Baroness Hallet recognise the devastating nature of bereavement and the pain we\\'ve been through. ', '\"Ultimately, all bereaved families want the same thing, which is to make sure that lessons are learnt from our devastating losses to protect others in the future.\"', 'Charles Persinger, who is part of the campaign and lost his mother and wife to Covid, added: \"We\\'ve waited a long time to get to this point - we would have liked the inquiry to start sooner. But what is important now is to really get to the bottom of the mistakes that were made.\"', \"Several reports have already put the UK government's handling of the pandemic under the spotlight.\", 'The Covid pandemic had a devastating impact on ethnic minority communities in the UK. ', 'In the first wave of the pandemic, black people were almost four times as likely to die of Covid than white people, while Asians were twice as likely to die. About 95% of doctors who died of Covid were ethnic minorities.  ', 'Saleyha Ahsan, a doctor and documentary maker, lost her dad to Covid-19. She tells me it\\'s good inequalities are being considered, but she\\'s \"keen to see how [Baroness Hallett] does it in real terms\".', '\"I\\'m not convinced it\\'s going to cover it all, so I am wary.\" ', 'Dr Ahsan is involved with the Covid-19 Bereaved Families for Justice, which led the campaign for an inquiry to happen.', '\"The main thing is is that we have now crossed the start line,\" she says. \"We\\'ve been calling for this for a whileâ\\x80¦ and today is a definite firing of the starting gun.\" ', 'This is the remarkable story of Curtis Warren', 'Mona Chalabi looks at the genetic consequences and taboos of cousin marriage', \"There's something for everyone on BBC iPlayer\", 'Tom Cruise on returning to the Top Gun role that made him a star']\n"
     ]
    }
   ],
   "source": [
    "import requests\n",
    "from bs4 import BeautifulSoup\n",
    "\n",
    "def craw_test(l):\n",
    "    count = 0\n",
    "    url = 'https://www.bbc.co.uk/sport'\n",
    "    source_code = requests.get(url)\n",
    "    plain_text = source_code.text\n",
    "    soup = BeautifulSoup(plain_text,\"lxml\")\n",
    "    for link in soup.findAll('p',{'class':\"ssrcss-6arcww-PromoHeadline e1f5wbog4\"}):\n",
    "            title = link.string\n",
    "            if(title != None and len(title) > 40 and count < 20):\n",
    "                #print('news headlines:',title)\n",
    "                l.append(title)\n",
    "                count += 1\n",
    "    url = 'https://www.bbc.co.uk/news/uk-politics-62239950'\n",
    "    source_code = requests.get(url)\n",
    "    plain_text = source_code.text\n",
    "    soup = BeautifulSoup(plain_text,\"lxml\")\n",
    "    for link in soup.findAll('p',{'class':\"ssrcss-1q0x1qg-Paragraph eq5iqo00\"}):\n",
    "            title = link.string\n",
    "            if(title != None and len(title) > 40 and count < 60):\n",
    "                #print('news headlines:',title)\n",
    "                l.append(title)\n",
    "                count += 1\n",
    "    count = 0\n",
    "    url = 'https://www.bbc.co.uk/news/politics'\n",
    "    source_code = requests.get(url)\n",
    "    plain_text = source_code.text\n",
    "    soup = BeautifulSoup(plain_text,\"lxml\")\n",
    "    for link in soup.findAll('p',{'class':\"gs-c-promo-summary gel-long-primer gs-u-mt nw-c-promo-summary gs-u-display-none gs-u-display-block@m\"}):\n",
    "        title = link.string\n",
    "        #print('politics headlines:',title)\n",
    "        l.append(title)\n",
    "    for link in soup.findAll('a',{'class':\"gs-c-promo-heading gs-o-faux-block-link__overlay-link gel-pica-bold nw-o-link-split__anchor\"}):\n",
    "        title = link.string\n",
    "        count = 0\n",
    "        if(title != None and len(title) > 40 and count < 40):\n",
    "            #print('politics headlines:',title)\n",
    "            l.append(title)\n",
    "            count += 1\n",
    "    count = 0\n",
    "    url = 'https://www.bbc.co.uk/news/health-62250899'\n",
    "    source_code = requests.get(url)\n",
    "    plain_text = source_code.text\n",
    "    soup = BeautifulSoup(plain_text,\"lxml\")\n",
    "    for link in soup.findAll('p',{'class':\"ssrcss-1q0x1qg-Paragraph eq5iqo00\"}):\n",
    "        title = link.string\n",
    "        count = 0\n",
    "        if(title != None and len(title) > 40 and count < 60):\n",
    "            #print('health news:',title)\n",
    "            l.append(title)\n",
    "            count += 1\n",
    "    return l\n",
    "\n",
    "\n",
    "l = []\n",
    "docs = craw_test(l)\n",
    "print(len(docs))\n",
    "print(docs)"
   ]
  },
  {
   "cell_type": "code",
   "execution_count": 38,
   "id": "0edbc6a6",
   "metadata": {},
   "outputs": [
    {
     "name": "stdout",
     "output_type": "stream",
     "text": [
      "['i', 'me', 'my', 'myself', 'we', 'our', 'ours', 'ourselves', 'you', \"you're\", \"you've\", \"you'll\", \"you'd\", 'your', 'yours', 'yourself', 'yourselves', 'he', 'him', 'his', 'himself', 'she', \"she's\", 'her', 'hers', 'herself', 'it', \"it's\", 'its', 'itself', 'they', 'them', 'their', 'theirs', 'themselves', 'what', 'which', 'who', 'whom', 'this', 'that', \"that'll\", 'these', 'those', 'am', 'is', 'are', 'was', 'were', 'be', 'been', 'being', 'have', 'has', 'had', 'having', 'do', 'does', 'did', 'doing', 'a', 'an', 'the', 'and', 'but', 'if', 'or', 'because', 'as', 'until', 'while', 'of', 'at', 'by', 'for', 'with', 'about', 'against', 'between', 'into', 'through', 'during', 'before', 'after', 'above', 'below', 'to', 'from', 'up', 'down', 'in', 'out', 'on', 'off', 'over', 'under', 'again', 'further', 'then', 'once', 'here', 'there', 'when', 'where', 'why', 'how', 'all', 'any', 'both', 'each', 'few', 'more', 'most', 'other', 'some', 'such', 'no', 'nor', 'not', 'only', 'own', 'same', 'so', 'than', 'too', 'very', 's', 't', 'can', 'will', 'just', 'don', \"don't\", 'should', \"should've\", 'now', 'd', 'll', 'm', 'o', 're', 've', 'y', 'ain', 'aren', \"aren't\", 'couldn', \"couldn't\", 'didn', \"didn't\", 'doesn', \"doesn't\", 'hadn', \"hadn't\", 'hasn', \"hasn't\", 'haven', \"haven't\", 'isn', \"isn't\", 'ma', 'mightn', \"mightn't\", 'mustn', \"mustn't\", 'needn', \"needn't\", 'shan', \"shan't\", 'shouldn', \"shouldn't\", 'wasn', \"wasn't\", 'weren', \"weren't\", 'won', \"won't\", 'wouldn', \"wouldn't\"]\n"
     ]
    },
    {
     "name": "stderr",
     "output_type": "stream",
     "text": [
      "[nltk_data] Downloading package stopwords to C:\\Users\\Bharathi\n",
      "[nltk_data]     Kondaveeti\\AppData\\Roaming\\nltk_data...\n",
      "[nltk_data]   Package stopwords is already up-to-date!\n"
     ]
    }
   ],
   "source": [
    "import nltk\n",
    "nltk.download(\"stopwords\")\n",
    "from nltk.corpus import stopwords\n",
    "\n",
    "sw = stopwords.words('english')\n",
    "print(sw)\n"
   ]
  },
  {
   "cell_type": "code",
   "execution_count": 126,
   "id": "7ab78170",
   "metadata": {},
   "outputs": [
    {
     "name": "stdout",
     "output_type": "stream",
     "text": [
      "['commonwealth game : 16 medal event first day - watch ', 'rossouw hit 96 south africa level t20 seri ', \"'now never ' - hurdler allen chase nfl dream \", 'watch : pick 11 commonwealth game stream ', 'a decad develop , six landmark moment ', 'arsen & northern ireland legend neill die 80 ', \"hamilton & alonso lead tribut 'legend ' vettel \", \"jamaica 's ex-gb athlet tracey rule game \", \"man citi abandon cucurella plan - friday 's gossip \", \"stenson feel 'gave ' ryder cup role \", 'anger pro-putin chant turkey footbal match ', 'motherwel dump europ inspir sligo ', 'crusad bow europ basel draw ', 'rage bull & nobel laureat - commonwealth game open style ', 'commonwealth game day-by-day guid & schedul ', \"'mi brother hung door , made ' \", 'bbc tv , radio & digit coverag time commonwealth game ', \"' i want leav legaci ' - fachi 's quest glori \", 'england aim gold cricket return game ', \"flagbear gilmour 's letter 16-year-old self \", \"watch key moment bori johnson 's final pmq \", \"if bori johnson expect teary-ey send mp , n't get one final prime minist 's question . \", \"the outgo prime minist 's last weekli grill dispatch box unlik first septemb 2019 - acrimoni , raucou , litter colour quip . \", 'after almost hour polit theatr , mr johnson brought curtain characterist fashion , tongue-in-cheek farewel , borrow script sci-fi blockbust . ', \"`` hasta la vista , babi , '' mr johnson told mp , recit line arnold schwarzenegg 's cyborg charact 1991 film termin 2 : judgment day . \", \"cue uproari laughter , cheer stand ovat conserv bench - although former pm theresa may n't appear join applaus . \", \"given schwarzenegg 's famou catchphras film - `` i 'll back '' - mr johnson 's sign-off mean may hang air westminst . \", 'for , least , mr johnson leav offic septemb , contest elect replac tori leader prime minist due conclud . ', 'in pithi close statement mr johnson word advic successor , say stay close american , stick ukrainian cut tax whenev possibl . ', \"`` focu road ahead , alway rememb check rear-view mirror . and rememb , 's twitter count - 's peopl sent us . '' \", \"held pressur cooker hous common , prime minist 's question design adversari occas high polit drama . \", 'the first 1961 , sinc , prime minist admit event hold terror . ', \"year leav offic , former prime minist toni blair liken pmq march `` execut '' , one predecessor , harold macmillan , confid made feel `` physic sick '' . \", \"it 's easi see mr johnson face hostil audienc mp , involv oust tori leader week ago . \", 'befor proceed began , common speaker lindsay hoyl urg mp moder languag conduct respect manner . ', \"the plea appear fall deaf ear though labour mp - led leader sir keir starmer - launch barrag attack mr johnson 's integr record pm . \", \"`` inflat morn million struggl cost live crisi , 's decid come gold wallpap bunker one last time tell us everyth 's fine , '' sir keir said . \", \"mr johnson paid littl heed sir lindsay 's plea either , brand sir keir `` great pointless human bollard '' . \", 'it kind unconvent one-lin mr johnson reel time 93 pmq duel , sir keir . ', \"`` captain hindsight '' one mr johnson 's favourit nicknam sir keir , often use context call lockdown restrict pandem . \", 'mani fiercest clash pmq covid-19 rule , breach mr johnson other down street . ', \"a recent addit mr johnson 's jibe sir keir `` captain crasherooni snoozefest '' , describ former labour leader jeremi corbyn `` chlorin chicken '' exchang post-brexit trade us . \", 'when ask tori leadership candid pull televis debat week , mr johnson conjur vivid imag rhetor . ', \"the candid would `` wipe floor '' sir keir , mr johnson said , compar tori colleagu `` household deterg '' . \", \"perhap quit elimin tori leadership candid tom tugendhat mind offer `` clean start '' . \", 'bbc polit correspond ion well sat press galleri common watch spectacl unfold . ', \"the atmospher `` pretti jovial overal '' , said . she said even mr johnson 's critic could n't help chuckl gag , labour liber democrat mp laugh notori rhetor flourish , arguabl got troubl year . \", \"mr johnson 's valedictori speech came veteran conserv backbench sir edward leigh prais record . \", \"labour mp could heard shout `` '' sir edward said : `` on behalf hous may i thank prime minist three year ' record servic . '' \", \"step dispatch box last time , mr johnson thank staff mp give nod schwarzenegg 's termin charact . \", 'as heat pmq cool , mr johnson left chamber , receiv pat back handshak went . ', 'some tear appar shed conserv minist andrea jenkyn . ', \"these end credit mr johnson 's swansong pmq , , evok termin refer , final parliamentari judgement day premiership . \", \"in first pmq 4 septemb 2019 , mr johnson call mr corbyn `` great big girl 's blous '' then-labour leader challeng pm parliamentari scrutini . \", \"`` call elect , great big girl 's blous '' \", \"on 12 januari 2022 , mr johnson offer `` heartfelt apolog '' attend drink down street 's garden 20 may 2020 , lockdown restrict forc . \", \"the prime minist accus `` bodi shame '' snp 's westminst leader ian blackford pmq clash 26 januari 2022 . \", \"ian blackford : `` the impend nation insur tax hike hang like guillotin eat cake . '' \", 'on 25 may 2022 , mr johnson repeat apolog parti held down street lockdown , senior civil servant sue gray publish report breach covid-19 rule . ', 'prime minist bori johnson : i humbl i learn lesson ', 'but team later clarifi mr sunak back expans exist grammar school . ', 'liz truss continu emphasis loyalti outgo prime minist , rishi sunak stand accus stab back ', 'the labour leader insist sack transport spokesman join union picket line . ', 'the former ambassador us becam famou colour turn phrase - colour sock . ', \"the cultur secretari also accus ex-chancellor lead `` ruthless coup '' bori johnson . \", 'rampant inflat lead demand higher pay offer promis coordin industri action . ', 'but team later clarifi mr sunak back expans exist grammar school . ', 'liz truss continu emphasis loyalti outgo prime minist , rishi sunak stand accus stab back ', 'the labour leader insist sack transport spokesman join union picket line . ', 'sunak say ye return grammar school ', 'chri mason : truss court johnson loyalist sunak face jibe ', 'mp fire make polici hoof - starmer ', 'ex-ambassador sir christoph meyer die 78 ', \"dorri defend clair 's accessori sunak attack \", 'sunak say ye return grammar school ', 'chri mason : truss court johnson loyalist sunak face jibe ', 'mp fire make polici hoof - starmer ', 'ex-ambassador sir christoph meyer die 78 ', \"dorri defend clair 's accessori sunak attack \", 'bryant make chariti donat claim disprov ', \"have wage 'stuck decad ' ? and claim \", 'cut leav militari risk threat rise - mp ', 'govern rule bank holiday euro win ', 'truss vow criminalis street harass ', 'how uk green learn oversea alli ', 'five takeaway heat truss-sunak clash ', 'who tori choos next pm ? ', 'what tax would two tori leadership rival cut ? ', \"lesson learn uk 's handl covid , anoth pandem strike , baro hallett , chair public inquiri , said . \", \"open inquiri , promis `` fair robust '' . \", 'the former high court judg said would conduct inquiri quickli possibl , without give timefram complet . ', 'those suffer deserv know could done , said . ', 'live lost , educ harm , busi fold mental physic health suffer . ', \"`` everi person life chang extent , '' ladi hallett said . \", \"`` those suffer want know could done reduc suffer . '' \", 'the inquiri compel wit give evid releas document , prosecut fine anyon . ', 'it substanti task would take time signific cost , ladi hallett said . ', \"but ad : `` i determin undertak inquiri speedili possibl lesson learn anoth pandem strike . '' \", 'public hear begin spring . ', 'befor , ladi hallettt said , key topic inquiri would includ : ', 'the inquiri begin take evid expert septemb . ', 'there mani involv care sector great deal say . they rememb earli warn countri vulner care home . ', 'care provid recount struggl get protect equip ; saw slow govern guidanc ; rapid discharg hospit patient care home , take viru , sens forgotten . ', 'famili unabl see mani case , say goodby love one , like say later inquiri . ', 'but weigh prepared pandem , one number perhap tell power stori . in first wave march june 2020 , nearli 20,000 care home resid die covid england wale . at time , repres third total number death . ', \"jo goodman , co-found covid-19 bereav famili justic campaign , said : `` today emot day us lost love one meant lot hear baro hallet recognis devast natur bereav pain 've . \", \"`` ultim , bereav famili want thing , make sure lesson learnt devast loss protect other futur . '' \", \"charl persing , part campaign lost mother wife covid , ad : `` we 've wait long time get point - would like inquiri start sooner . but import realli get bottom mistak made . '' \", \"sever report alreadi put uk govern 's handl pandem spotlight . \", 'the covid pandem devast impact ethnic minor commun uk . ', 'in first wave pandem , black peopl almost four time like die covid white peopl , asian twice like die . about 95 % doctor die covid ethnic minor . ', \"saleyha ahsan , doctor documentari maker , lost dad covid-19 . she tell 's good inequ consid , 's `` keen see [ baro hallett ] real term '' . \", \"`` i 'm convinc 's go cover , i wari . '' \", 'dr ahsan involv covid-19 bereav famili justic , led campaign inquiri happen . ', \"`` the main thing cross start line , '' say . `` we 've call whileâ\\x80¦ today definit fire start gun . '' \", 'from intric mosaic amaz hieroglyph - els hide water ? ', 'matthew sy call nuclear awaken ... ']\n"
     ]
    },
    {
     "name": "stderr",
     "output_type": "stream",
     "text": [
      "[nltk_data] Downloading package punkt to C:\\Users\\Bharathi\n",
      "[nltk_data]     Kondaveeti\\AppData\\Roaming\\nltk_data...\n",
      "[nltk_data]   Package punkt is already up-to-date!\n"
     ]
    }
   ],
   "source": [
    "nltk.download(\"punkt\")\n",
    "from nltk.tokenize import word_tokenize\n",
    "from nltk.stem import PorterStemmer\n",
    "\n",
    "ps = PorterStemmer()\n",
    "filtered_docs = []\n",
    "for doc in docs:\n",
    "    tokens = word_tokenize(doc)\n",
    "    tmp = \"\"\n",
    "    for w in tokens:\n",
    "        if w not in sw:\n",
    "            tmp += ps.stem(w) + \" \"\n",
    "    filtered_docs.append(tmp)\n",
    "\n",
    "print(filtered_docs)\n"
   ]
  },
  {
   "cell_type": "code",
   "execution_count": 129,
   "id": "b56122d6",
   "metadata": {},
   "outputs": [
    {
     "name": "stdout",
     "output_type": "stream",
     "text": [
      "[[0. 0. 0. ... 0. 0. 0.]\n",
      " [0. 0. 0. ... 0. 0. 0.]\n",
      " [0. 0. 0. ... 0. 0. 0.]\n",
      " ...\n",
      " [0. 0. 0. ... 0. 0. 0.]\n",
      " [0. 0. 0. ... 0. 0. 0.]\n",
      " [0. 0. 0. ... 0. 0. 0.]]\n",
      "  (0, 769)\t0.3435976882426375\n",
      "  (0, 195)\t0.328543241879226\n",
      "  (0, 283)\t0.3158148888410524\n",
      "  (0, 253)\t0.38577699544728233\n",
      "  (0, 473)\t0.419256595060111\n",
      "  (0, 3)\t0.38577699544728233\n",
      "  (0, 302)\t0.3047890879239983\n",
      "  (0, 150)\t0.328543241879226\n",
      "  (1, 635)\t0.35355339059327373\n",
      "  (1, 689)\t0.35355339059327373\n",
      "  (1, 437)\t0.35355339059327373\n",
      "  (1, 29)\t0.35355339059327373\n",
      "  (1, 656)\t0.35355339059327373\n",
      "  (1, 17)\t0.35355339059327373\n",
      "  (1, 356)\t0.35355339059327373\n",
      "  (1, 610)\t0.35355339059327373\n",
      "  (2, 229)\t0.3779644730092272\n",
      "  (2, 498)\t0.3779644730092272\n",
      "  (2, 127)\t0.3779644730092272\n",
      "  (2, 36)\t0.3779644730092272\n",
      "  (2, 371)\t0.3779644730092272\n",
      "  (2, 496)\t0.3779644730092272\n",
      "  (2, 504)\t0.3779644730092272\n",
      "  (3, 675)\t0.4557608899406954\n",
      "  (3, 1)\t0.4557608899406954\n",
      "  :\t:\n",
      "  (114, 185)\t0.2653584033848646\n",
      "  (114, 460)\t0.2653584033848646\n",
      "  (114, 772)\t0.2441682940248652\n",
      "  (114, 710)\t0.2441682940248652\n",
      "  (114, 753)\t0.22913367216897348\n",
      "  (114, 718)\t0.2441682940248652\n",
      "  (114, 282)\t0.22913367216897348\n",
      "  (114, 668)\t0.45826734433794697\n",
      "  (114, 109)\t0.20794356280897405\n",
      "  (114, 619)\t0.19988745712161005\n",
      "  (114, 444)\t0.2174719134608349\n",
      "  (114, 703)\t0.15351589182151953\n",
      "  (115, 770)\t0.35355339059327373\n",
      "  (115, 350)\t0.35355339059327373\n",
      "  (115, 243)\t0.35355339059327373\n",
      "  (115, 351)\t0.35355339059327373\n",
      "  (115, 44)\t0.35355339059327373\n",
      "  (115, 487)\t0.35355339059327373\n",
      "  (115, 388)\t0.35355339059327373\n",
      "  (115, 298)\t0.35355339059327373\n",
      "  (116, 68)\t0.4655404465175178\n",
      "  (116, 505)\t0.4655404465175178\n",
      "  (116, 688)\t0.4655404465175178\n",
      "  (116, 469)\t0.4655404465175178\n",
      "  (116, 109)\t0.36481278846153503\n"
     ]
    }
   ],
   "source": [
    "from sklearn.feature_extraction.text import TfidfVectorizer\n",
    "vectorizer = TfidfVectorizer()\n",
    "X = vectorizer.fit_transform(filtered_docs)\n",
    "print(X.todense())\n",
    "print(X)"
   ]
  },
  {
   "cell_type": "code",
   "execution_count": 158,
   "id": "c8511612",
   "metadata": {},
   "outputs": [
    {
     "data": {
      "image/png": "[encoded data removed]",
      "text/plain": [
       "<Figure size 432x288 with 1 Axes>"
      ]
     },
     "metadata": {
      "needs_background": "light"
     },
     "output_type": "display_data"
    }
   ],
   "source": [
    "import matplotlib.pyplot as plt\n",
    "from sklearn.cluster import KMeans\n",
    "sse = {}\n",
    "for k in range(1,4):\n",
    "    kmeans = KMeans(n_clusters=k, max_iter=5).fit(X)\n",
    "    #data[\"clusters\"] = kmeans.labels_\n",
    "    #print(data[\"clusters\"])\n",
    "    sse[k] = kmeans.inertia_ # Inertia: Sum of distances of samples to their closest cluster center\n",
    "plt.figure()\n",
    "plt.plot(list(sse.keys()), list(sse.values()))\n",
    "plt.xlabel(\"Number of cluster\")\n",
    "plt.ylabel(\"SSE\")\n",
    "plt.show()"
   ]
  },
  {
   "cell_type": "code",
   "execution_count": 159,
   "id": "5f35f96e",
   "metadata": {},
   "outputs": [
    {
     "name": "stdout",
     "output_type": "stream",
     "text": [
      "cluster no. of input documents, in the order they received:\n",
      "[0 0 1 0 0 0 1 1 1 0 1 1 0 0 0 0 0 0 0 0 1 1 1 1 0 0 2 1 0 1 1 1 1 1 0 1 0\n",
      " 1 1 1 1 1 1 1 1 0 0 1 1 0 2 1 1 1 1 1 1 1 1 1 2 2 1 1 1 1 2 2 1 2 2 0 0 2\n",
      " 2 2 0 0 2 0 0 0 0 1 0 2 1 0 0 0 1 1 0 0 1 0 0 0 1 0 1 0 0 2 0 0 0 0 0 0 0\n",
      " 1 0 0 0 0 0]\n"
     ]
    }
   ],
   "source": [
    "from sklearn.cluster import KMeans\n",
    "K = 3\n",
    "model = KMeans(n_clusters=K)#, init='k-means++', max_iter=100, n_init=1)\n",
    "model.fit(X)\n",
    "\n",
    "print(\"cluster no. of input documents, in the order they received:\")\n",
    "print(model.labels_)"
   ]
  },
  {
   "cell_type": "code",
   "execution_count": 164,
   "id": "deb9e97b",
   "metadata": {},
   "outputs": [
    {
     "name": "stdout",
     "output_type": "stream",
     "text": [
      "['the covid pandem devast impact ethnic minor commun ', 'bori johnson expect teary-ey send mp ', 'care home resid die covid england wale ', 'england top first t20 v south africa ', 'contest elect replac tori leader prime minist due conclud ', 'vingegaard close tour victori stage 18 win ', \"birmingham attempt leav 'carbon neutral legaci \", 'coe say global warm could forc move event ', '16 medal event first day - watch ', 'franc win world cup footbal ', 'sunak say ye return grammar school ']\n",
      "[0]\n",
      "[1]\n",
      "[0]\n",
      "[0]\n",
      "[1]\n",
      "[0]\n",
      "[0]\n",
      "[0]\n",
      "[0]\n",
      "[0]\n",
      "[2]\n"
     ]
    }
   ],
   "source": [
    "test_doc = [\"The Covid pandemic had a devastating impact on ethnic minority communities\",\n",
    "             \"Boris Johnson was expecting a teary-eyed send off from all MPs\",\n",
    "             \"care home residents died of Covid in England and Wales\",\n",
    "            \"England on top in first T20 v South Africa\",\n",
    "            \"contest to elect his replacement as Tory leader and prime minister is due to conclude\",\n",
    "            \"Vingegaard close to Tour victory after stage 18 win\",\n",
    "            \"Birmingham attempts to leave 'carbon neutral legacy\",\n",
    "            \"Coe says global warming could force move of events\",\n",
    "            \"16 medal event first day - watch \",\n",
    "            \"France wins world cup in football\",\n",
    "            \"Sunak says yes to return of grammar schools\"\n",
    "           ]\n",
    "filtered_test_docs = []\n",
    "for doc in test_doc:\n",
    "    tokens = word_tokenize(doc)\n",
    "    tmp = \"\"\n",
    "    for w in tokens:\n",
    "        if w not in sw:\n",
    "            tmp += ps.stem(w) + \" \"\n",
    "    filtered_test_docs.append(tmp)\n",
    "\n",
    "print(filtered_test_docs)\n",
    "prediction = []\n",
    "labels_pred = []\n",
    "for i in range(len(filtered_test_docs)):\n",
    "    Y = vectorizer.transform([filtered_test_docs[i]])\n",
    "    prediction=(model.predict(Y))\n",
    "    print(prediction)\n",
    "    labels_pred.append(prediction[0])"
   ]
  },
  {
   "cell_type": "code",
   "execution_count": 165,
   "id": "2385a2a4",
   "metadata": {},
   "outputs": [
    {
     "data": {
      "text/plain": [
       "0.6363636363636364"
      ]
     },
     "execution_count": 165,
     "metadata": {},
     "output_type": "execute_result"
    }
   ],
   "source": [
    "#rand index - performance measure of k-mean cluster\n",
    "from sklearn import metrics\n",
    "labels_true = [0,1,0,2,1,2,0,0,2,2,2]\n",
    "metrics.rand_score(labels_true, labels_pred)"
   ]
  },
  {
   "cell_type": "code",
   "execution_count": null,
   "id": "3d2f38d2",
   "metadata": {},
   "outputs": [],
   "source": [
    "\n"
   ]
  },
  {
   "cell_type": "code",
   "execution_count": 34,
   "id": "430a57de",
   "metadata": {},
   "outputs": [],
   "source": [
    "\n"
   ]
  },
  {
   "cell_type": "code",
   "execution_count": null,
   "id": "2dff0040",
   "metadata": {},
   "outputs": [],
   "source": []
  },
  {
   "cell_type": "code",
   "execution_count": 35,
   "id": "7cde0dbc",
   "metadata": {},
   "outputs": [],
   "source": []
  },
  {
   "cell_type": "code",
   "execution_count": null,
   "id": "af42aae2",
   "metadata": {},
   "outputs": [],
   "source": []
  },
  {
   "cell_type": "code",
   "execution_count": null,
   "id": "aacbebcc",
   "metadata": {},
   "outputs": [],
   "source": []
  },
  {
   "cell_type": "code",
   "execution_count": null,
   "id": "c0b8a60f",
   "metadata": {},
   "outputs": [],
   "source": []
  },
  {
   "cell_type": "code",
   "execution_count": null,
   "id": "dfeee931",
   "metadata": {},
   "outputs": [],
   "source": []
  }
 ],
 "metadata": {
  "kernelspec": {
   "display_name": "Python 3 (ipykernel)",
   "language": "python",
   "name": "python3"
  },
  "language_info": {
   "codemirror_mode": {
    "name": "ipython",
    "version": 3
   },
   "file_extension": ".py",
   "mimetype": "text/x-python",
   "name": "python",
   "nbconvert_exporter": "python",
   "pygments_lexer": "ipython3",
   "version": "3.9.7"
  }
 },
 "nbformat": 4,
 "nbformat_minor": 5
}
